{
 "cells": [
  {
   "cell_type": "code",
   "execution_count": 1,
   "metadata": {
    "colab": {},
    "colab_type": "code",
    "id": "WzYOR1o2Vaoc"
   },
   "outputs": [
    {
     "name": "stdout",
     "output_type": "stream",
     "text": [
      "Requirement already satisfied: dash==1.12.0 in c:\\users\\hogaw\\.venvs\\dash\\lib\\site-packages (1.12.0)\n",
      "Requirement already satisfied: dash-core-components==1.10.0 in c:\\users\\hogaw\\.venvs\\dash\\lib\\site-packages (from dash==1.12.0) (1.10.0)\n",
      "Requirement already satisfied: future in c:\\users\\hogaw\\.venvs\\dash\\lib\\site-packages (from dash==1.12.0) (0.17.1)\n",
      "Requirement already satisfied: dash-renderer==1.4.1 in c:\\users\\hogaw\\.venvs\\dash\\lib\\site-packages (from dash==1.12.0) (1.4.1)\n",
      "Requirement already satisfied: dash-html-components==1.0.3 in c:\\users\\hogaw\\.venvs\\dash\\lib\\site-packages (from dash==1.12.0) (1.0.3)\n",
      "Requirement already satisfied: flask-compress in c:\\users\\hogaw\\.venvs\\dash\\lib\\site-packages (from dash==1.12.0) (1.4.0)\n",
      "Requirement already satisfied: dash-table==4.7.0 in c:\\users\\hogaw\\.venvs\\dash\\lib\\site-packages (from dash==1.12.0) (4.7.0)\n",
      "Requirement already satisfied: plotly in c:\\users\\hogaw\\.venvs\\dash\\lib\\site-packages (from dash==1.12.0) (4.7.1)\n",
      "Requirement already satisfied: Flask>=1.0.2 in c:\\users\\hogaw\\.venvs\\dash\\lib\\site-packages (from dash==1.12.0) (1.1.1)\n",
      "Requirement already satisfied: six in c:\\users\\hogaw\\.venvs\\dash\\lib\\site-packages (from plotly->dash==1.12.0) (1.12.0)\n",
      "Requirement already satisfied: retrying>=1.3.3 in c:\\users\\hogaw\\.venvs\\dash\\lib\\site-packages (from plotly->dash==1.12.0) (1.3.3)\n",
      "Requirement already satisfied: Jinja2>=2.10.1 in c:\\users\\hogaw\\.venvs\\dash\\lib\\site-packages (from Flask>=1.0.2->dash==1.12.0) (2.10.1)\n",
      "Requirement already satisfied: click>=5.1 in c:\\users\\hogaw\\.venvs\\dash\\lib\\site-packages (from Flask>=1.0.2->dash==1.12.0) (7.0)\n",
      "Requirement already satisfied: itsdangerous>=0.24 in c:\\users\\hogaw\\.venvs\\dash\\lib\\site-packages (from Flask>=1.0.2->dash==1.12.0) (1.1.0)\n",
      "Requirement already satisfied: Werkzeug>=0.15 in c:\\users\\hogaw\\.venvs\\dash\\lib\\site-packages (from Flask>=1.0.2->dash==1.12.0) (0.16.0)\n",
      "Requirement already satisfied: MarkupSafe>=0.23 in c:\\users\\hogaw\\.venvs\\dash\\lib\\site-packages (from Jinja2>=2.10.1->Flask>=1.0.2->dash==1.12.0) (1.1.1)\n"
     ]
    }
   ],
   "source": [
    "!pip install dash==1.12.0"
   ]
  },
<<<<<<< HEAD
  {
   "cell_type": "code",
   "execution_count": 2,
   "metadata": {
    "colab": {},
    "colab_type": "code",
    "id": "x2jNShOYVjx0"
   },
   "outputs": [
    {
     "name": "stderr",
     "output_type": "stream",
     "text": [
      "'wget' は、内部コマンドまたは外部コマンド、\n",
      "操作可能なプログラムまたはバッチ ファイルとして認識されていません。\n"
     ]
    }
   ],
   "source": [
    "!wget https://bin.equinox.io/c/4VmDzA7iaHb/ngrok-stable-linux-amd64.zip"
   ]
  },
  {
   "cell_type": "code",
   "execution_count": 3,
   "metadata": {
    "colab": {},
    "colab_type": "code",
    "id": "mfYwx8A9V-2x"
   },
   "outputs": [
    {
     "name": "stderr",
     "output_type": "stream",
     "text": [
      "'unzip' は、内部コマンドまたは外部コマンド、\n",
      "操作可能なプログラムまたはバッチ ファイルとして認識されていません。\n"
     ]
=======
  "cells": [
    {
      "cell_type": "code",
      "metadata": {
        "id": "WzYOR1o2Vaoc",
        "colab_type": "code",
        "colab": {}
      },
      "source": [
        "!pip install dash==1.12.0"
      ],
      "execution_count": 0,
      "outputs": []
    },
    {
      "cell_type": "code",
      "metadata": {
        "id": "x2jNShOYVjx0",
        "colab_type": "code",
        "colab": {}
      },
      "source": [
        "!wget https://bin.equinox.io/c/4VmDzA7iaHb/ngrok-stable-linux-amd64.zip"
      ],
      "execution_count": 0,
      "outputs": []
    },
    {
      "cell_type": "code",
      "metadata": {
        "id": "mfYwx8A9V-2x",
        "colab_type": "code",
        "colab": {}
      },
      "source": [
        "!unzip ngrok-stable-linux-amd64.zip"
      ],
      "execution_count": 0,
      "outputs": []
    },
    {
      "cell_type": "code",
      "metadata": {
        "id": "_FYXqe07WBby",
        "colab_type": "code",
        "colab": {}
      },
      "source": [
        "%%writefile app1.py\n",
        "\n",
        "# -*- coding: utf-8 -*-\n",
        "import dash\n",
        "import dash_core_components as dcc\n",
        "import dash_html_components as html\n",
        "\n",
        "external_stylesheets = ['https://codepen.io/chriddyp/pen/bWLwgP.css']\n",
        "\n",
        "app = dash.Dash(__name__, external_stylesheets=external_stylesheets)\n",
        "\n",
        "app.layout = html.Div(children=[\n",
        "    html.H1(children='Hello Dash'),\n",
        "\n",
        "    html.Div(children='''\n",
        "        Dash: A web application framework for Python.\n",
        "    '''),\n",
        "\n",
        "    dcc.Graph(\n",
        "        id='example-graph',\n",
        "        figure={\n",
        "            'data': [\n",
        "                {'x': [1, 2, 3], 'y': [4, 1, 2], 'type': 'bar', 'name': 'SF'},\n",
        "                {'x': [1, 2, 3], 'y': [2, 4, 5], 'type': 'bar', 'name': u'Montréal'},\n",
        "            ],\n",
        "            'layout': {\n",
        "                'title': 'Dash Data Visualization'\n",
        "            }\n",
        "        }\n",
        "    )\n",
        "])\n",
        "\n",
        "if __name__ == '__main__':\n",
        "    app.run_server(debug=True)\n",
        "    "
      ],
      "execution_count": 0,
      "outputs": []
    },
    {
      "cell_type": "code",
      "metadata": {
        "id": "kxN4bwu0WSdJ",
        "colab_type": "code",
        "colab": {}
      },
      "source": [
        "get_ipython().system_raw('./ngrok http 8050 &')"
      ],
      "execution_count": 0,
      "outputs": []
    },
    {
      "cell_type": "code",
      "metadata": {
        "id": "_Gwo9CxvWbFG",
        "colab_type": "code",
        "colab": {}
      },
      "source": [
        "%%sh\n",
        "# get url with ngrok\n",
        "curl -s http://localhost:4040/api/tunnels | python3 -c \"import sys, json; print(json.load(sys.stdin)['tunnels'][0]['public_url'])\""
      ],
      "execution_count": 0,
      "outputs": []
    },
    {
      "cell_type": "code",
      "metadata": {
        "id": "BugXWXVQWfLv",
        "colab_type": "code",
        "colab": {}
      },
      "source": [
        "!python app1.py"
      ],
      "execution_count": 0,
      "outputs": []
    },
    {
      "cell_type": "code",
      "metadata": {
        "id": "bztjIflhbn1n",
        "colab_type": "code",
        "colab": {}
      },
      "source": [
        "!pip install dash-bio==0.4.8"
      ],
      "execution_count": 0,
      "outputs": []
    },
    {
      "cell_type": "code",
      "metadata": {
        "id": "5TdmHBAoWjRX",
        "colab_type": "code",
        "colab": {}
      },
      "source": [
        "%%writefile app2.py\n",
        "\n",
        "import dash\n",
        "import dash_core_components as dcc\n",
        "import dash_html_components as html\n",
        "import dash_bio as dashbio\n",
        "import pandas as pd\n",
        "\n",
        "df = pd.read_csv(\n",
        "    'https://raw.githubusercontent.com/plotly/dash-bio-docs-files' +\n",
        "    '/master/clustergram_mtcars.tsv',\n",
        "    sep='\t', skiprows=4\n",
        ").set_index('model')\n",
        "\n",
        "data = df.values\n",
        "\n",
        "component = dcc.Graph(figure=dashbio.Clustergram(\n",
        "  data=data,\n",
        "  color_threshold={'row': 150,\n",
        "  'col': 700},\n",
        "  column_labels=list(df.columns.values),\n",
        "  row_labels=list(df.index),\n",
        "  hidden_labels=['row'],\n",
        "  width=600\n",
        "))\n",
        "\n",
        "external_stylesheets = ['https://codepen.io/chriddyp/pen/bWLwgP.css']\n",
        "app = dash.Dash(__name__, external_stylesheets=external_stylesheets)\n",
        "app.layout = html.Div(component)\n",
        "if __name__ == '__main__':\n",
        "    app.run_server(debug=True)\n"
      ],
      "execution_count": 0,
      "outputs": []
    },
    {
      "cell_type": "code",
      "metadata": {
        "id": "4o7YTs6vC3vw",
        "colab_type": "code",
        "colab": {}
      },
      "source": [
        "!pip install pandas"
      ],
      "execution_count": 0,
      "outputs": []
    },
    {
      "cell_type": "code",
      "metadata": {
        "id": "BagifRDl3f2s",
        "colab_type": "code",
        "colab": {}
      },
      "source": [
        "import pandas as pd\n",
        "\n",
        "df = pd.read_csv(\n",
        "    'https://raw.githubusercontent.com/plotly/dash-bio-docs-files' +\n",
        "    '/master/clustergram_mtcars.tsv',\n",
        "    sep='\t', skiprows=4\n",
        ").set_index('model')\n",
        "\n",
        "data = df.values"
      ],
      "execution_count": 0,
      "outputs": []
    },
    {
      "cell_type": "code",
      "metadata": {
        "id": "zP0QmYvH3mZn",
        "colab_type": "code",
        "colab": {}
      },
      "source": [
        "df"
      ],
      "execution_count": 0,
      "outputs": []
    },
    {
      "cell_type": "code",
      "metadata": {
        "colab_type": "code",
        "id": "_C9c8vuedElH",
        "colab": {}
      },
      "source": [
        "get_ipython().system_raw('./ngrok http 8050 &')"
      ],
      "execution_count": 0,
      "outputs": []
    },
    {
      "cell_type": "code",
      "metadata": {
        "colab_type": "code",
        "id": "LxWRGFGcdElK",
        "colab": {}
      },
      "source": [
        "%%sh\n",
        "# get url with ngrok\n",
        "curl -s http://localhost:4040/api/tunnels | python3 -c \"import sys, json; print(json.load(sys.stdin)['tunnels'][0]['public_url'])\""
      ],
      "execution_count": 0,
      "outputs": []
    },
    {
      "cell_type": "code",
      "metadata": {
        "id": "eS7MVWDYbfGb",
        "colab_type": "code",
        "colab": {}
      },
      "source": [
        "!python app2.py"
      ],
      "execution_count": 0,
      "outputs": []
    },
    {
      "cell_type": "code",
      "metadata": {
        "id": "JRLCv0rtbghh",
        "colab_type": "code",
        "colab": {}
      },
      "source": [
        "%%writefile app3.py\n",
        "\n",
        "import dash\n",
        "import dash_core_components as dcc\n",
        "import dash_html_components as html\n",
        "import dash_bio as dashbio\n",
        "import pandas as pd\n",
        "\n",
        "df = pd.read_csv(\n",
        "    'https://raw.githubusercontent.com/plotly/dash-bio-docs-files' +\n",
        "    '/master/volcano_data1.csv'\n",
        ")\n",
        "component = dcc.Graph(figure=dashbio.VolcanoPlot(\n",
        "  dataframe=df\n",
        "))\n",
        "\n",
        "external_stylesheets = ['https://codepen.io/chriddyp/pen/bWLwgP.css']\n",
        "app = dash.Dash(__name__, external_stylesheets=external_stylesheets)\n",
        "app.layout = html.Div(component)\n",
        "if __name__ == '__main__':\n",
        "  app.run_server(debug=True)\n"
      ],
      "execution_count": 0,
      "outputs": []
    },
    {
      "cell_type": "code",
      "metadata": {
        "colab_type": "code",
        "id": "FM477ee5d9Ak",
        "colab": {}
      },
      "source": [
        "get_ipython().system_raw('./ngrok http 8050 &')"
      ],
      "execution_count": 0,
      "outputs": []
    },
    {
      "cell_type": "code",
      "metadata": {
        "colab_type": "code",
        "id": "TSY-5xbtd9An",
        "colab": {}
      },
      "source": [
        "%%sh\n",
        "# get url with ngrok\n",
        "curl -s http://localhost:4040/api/tunnels | python3 -c \"import sys, json; print(json.load(sys.stdin)['tunnels'][0]['public_url'])\""
      ],
      "execution_count": 0,
      "outputs": []
    },
    {
      "cell_type": "code",
      "metadata": {
        "colab_type": "code",
        "id": "3gZiLmVBd9Ap",
        "colab": {}
      },
      "source": [
        "!python app3.py"
      ],
      "execution_count": 0,
      "outputs": []
    },
    {
      "cell_type": "code",
      "metadata": {
        "id": "8EK1_w40eBaR",
        "colab_type": "code",
        "colab": {}
      },
      "source": [
        "import pandas as pd\n",
        "\n",
        "df = pd.read_csv(\n",
        "    'https://raw.githubusercontent.com/plotly/dash-bio-docs-files' +\n",
        "    '/master/volcano_data1.csv'\n",
        ")"
      ],
      "execution_count": 0,
      "outputs": []
    },
    {
      "cell_type": "code",
      "metadata": {
        "id": "dSEDSuK74DvD",
        "colab_type": "code",
        "colab": {}
      },
      "source": [
        "df"
      ],
      "execution_count": 0,
      "outputs": []
    },
    {
      "cell_type": "code",
      "metadata": {
        "id": "n6tOIGum4EMA",
        "colab_type": "code",
        "colab": {}
      },
      "source": [
        "!mkdir dash_hannari"
      ],
      "execution_count": 0,
      "outputs": []
    },
    {
      "cell_type": "code",
      "metadata": {
        "id": "V0pM63ooqx6o",
        "colab_type": "code",
        "colab": {}
      },
      "source": [
        "!touch dash_hannari/__init__.py"
      ],
      "execution_count": 0,
      "outputs": []
    },
    {
      "cell_type": "code",
      "metadata": {
        "id": "b2Qv01jfq-Vk",
        "colab_type": "code",
        "colab": {}
      },
      "source": [
        "%%writefile dash_hannari/__init__.py\n",
        "\n",
        "import math\n",
        "import dash_cytoscape as cyto\n",
        "\n",
        "def PhylogenyTree(tree):\n",
        "\n",
        "  nodes, edges = generate_elements(tree)\n",
        "  elements = nodes + edges\n",
        "\n",
        "  layout = {'name': 'preset'}\n",
        "\n",
        "  stylesheet = [\n",
        "      {\n",
        "          'selector': '.nonterminal',\n",
        "          'style': {\n",
        "              'label': 'data(confidence)',\n",
        "              'background-opacity': 0,\n",
        "              \"text-halign\": \"left\",\n",
        "              \"text-valign\": \"top\",\n",
        "          }\n",
        "      },\n",
        "      {\n",
        "          'selector': '.support',\n",
        "          'style': {'background-opacity': 0}\n",
        "      },\n",
        "      {\n",
        "          'selector': 'edge',\n",
        "          'style': {\n",
        "              \"source-endpoint\": \"inside-to-node\",\n",
        "              \"target-endpoint\": \"inside-to-node\",\n",
        "          }\n",
        "      },\n",
        "      {\n",
        "          'selector': '.terminal',\n",
        "          'style': {\n",
        "              'label': 'data(name)',\n",
        "              'width': 10,\n",
        "              'height': 10,\n",
        "              \"text-valign\": \"center\",\n",
        "              \"text-halign\": \"right\",\n",
        "              'background-color': '#222222'\n",
        "          }\n",
        "      }\n",
        "  ]\n",
        "\n",
        "  return cyto.Cytoscape(\n",
        "        id='cytoscape',\n",
        "        elements=elements,\n",
        "        stylesheet=stylesheet,\n",
        "        layout=layout,\n",
        "        style={\n",
        "            'height': '95vh',\n",
        "            'width': '100%'\n",
        "        }\n",
        "    )\n",
        "\n",
        "\n",
        "def generate_elements(tree, xlen=30, ylen=30, grabbable=False):\n",
        "    def get_col_positions(tree, column_width=80):\n",
        "        \"\"\"Create a mapping of each clade to its column position.\"\"\"\n",
        "        taxa = tree.get_terminals()\n",
        "\n",
        "        # Some constants for the drawing calculations\n",
        "        max_label_width = max(len(str(taxon)) for taxon in taxa)\n",
        "        drawing_width = column_width - max_label_width - 1\n",
        "\n",
        "        depths = tree.depths() \n",
        "        # If there are no branch lengths, assume unit branch lengths\n",
        "        if not max(depths.values()):\n",
        "            depths = tree.depths(unit_branch_lengths=True)\n",
        "            # Potential drawing overflow due to rounding -- 1 char per tree layer\n",
        "        fudge_margin = int(math.ceil(math.log(len(taxa), 2)))\n",
        "        cols_per_branch_unit = ((drawing_width - fudge_margin) /\n",
        "                                float(max(depths.values())))\n",
        "        return dict((clade, int(blen * cols_per_branch_unit + 1.0))\n",
        "                    for clade, blen in depths.items())\n",
        "\n",
        "    def get_row_positions(tree):\n",
        "        taxa = tree.get_terminals()\n",
        "        positions = dict((taxon, 2 * idx) for idx, taxon in enumerate(taxa))\n",
        "\n",
        "        def calc_row(clade):\n",
        "            for subclade in clade:\n",
        "                if subclade not in positions:\n",
        "                    calc_row(subclade)\n",
        "            positions[clade] = ((positions[clade.clades[0]] +\n",
        "                                 positions[clade.clades[-1]]) // 2)\n",
        "\n",
        "        calc_row(tree.root)\n",
        "        return positions\n",
        "\n",
        "    def add_to_elements(clade, clade_id):\n",
        "        children = clade.clades\n",
        "\n",
        "        pos_x = col_positions[clade] * xlen\n",
        "        pos_y = row_positions[clade] * ylen\n",
        "\n",
        "        cy_source = {\n",
        "            \"data\": {\"id\": clade_id},\n",
        "            'position': {'x': pos_x, 'y': pos_y},\n",
        "            'classes': 'nonterminal',\n",
        "            'grabbable': grabbable\n",
        "        }\n",
        "        nodes.append(cy_source)\n",
        "\n",
        "        if clade.is_terminal():\n",
        "            cy_source['data']['name'] = clade.name\n",
        "            cy_source['classes'] = 'terminal'\n",
        "\n",
        "        for n, child in enumerate(children):\n",
        "            # The \"support\" node is on the same column as the parent clade,\n",
        "            # and on the same row as the child clade. It is used to create the\n",
        "            # 90 degree angle between the parent and the children.\n",
        "            # Edge config: parent -> support -> child\n",
        "\n",
        "            support_id = clade_id + 's' + str(n)\n",
        "            child_id = clade_id + 'c' + str(n)\n",
        "            pos_y_child = row_positions[child] * ylen\n",
        "\n",
        "            cy_support_node = {\n",
        "                'data': {'id': support_id},\n",
        "                'position': {'x': pos_x, 'y': pos_y_child},\n",
        "                'grabbable': grabbable,\n",
        "                'classes': 'support'\n",
        "            }\n",
        "\n",
        "            cy_support_edge = {\n",
        "                'data': {\n",
        "                    'source': clade_id,\n",
        "                    'target': support_id,\n",
        "                    'sourceCladeId': clade_id\n",
        "                },\n",
        "            }\n",
        "\n",
        "            cy_edge = {\n",
        "                'data': {\n",
        "                    'source': support_id,\n",
        "                    'target': child_id,\n",
        "                    'length': clade.branch_length,\n",
        "                    'sourceCladeId': clade_id\n",
        "                },\n",
        "            }\n",
        "\n",
        "            if clade.confidence and clade.confidence.value:\n",
        "                cy_source['data']['confidence'] = clade.confidence.value\n",
        "\n",
        "            nodes.append(cy_support_node)\n",
        "            edges.extend([cy_support_edge, cy_edge])\n",
        "\n",
        "            add_to_elements(child, child_id)\n",
        "\n",
        "    col_positions = get_col_positions(tree)\n",
        "    row_positions = get_row_positions(tree)\n",
        "\n",
        "    nodes = []\n",
        "    edges = []\n",
        "\n",
        "    add_to_elements(tree.clade, 'r')\n",
        "\n",
        "    return nodes, edges\n"
      ],
      "execution_count": 0,
      "outputs": []
    },
    {
      "cell_type": "code",
      "metadata": {
        "id": "e9rH5a6Nq1sd",
        "colab_type": "code",
        "colab": {}
      },
      "source": [
        "import dash_hannari as dashhannari"
      ],
      "execution_count": 0,
      "outputs": []
    },
    {
      "cell_type": "code",
      "metadata": {
        "id": "HSVaXINxvbbC",
        "colab_type": "code",
        "colab": {}
      },
      "source": [
        "!pip install dash-cytoscape"
      ],
      "execution_count": 0,
      "outputs": []
    },
    {
      "cell_type": "code",
      "metadata": {
        "id": "kuAJCDd2rEJD",
        "colab_type": "code",
        "colab": {}
      },
      "source": [
        "!pip install biopython"
      ],
      "execution_count": 0,
      "outputs": []
    },
    {
      "cell_type": "code",
      "metadata": {
        "id": "PzyY53_BrlAN",
        "colab_type": "code",
        "colab": {}
      },
      "source": [
        "!mkdir data"
      ],
      "execution_count": 0,
      "outputs": []
    },
    {
      "cell_type": "code",
      "metadata": {
        "id": "mUQIGAK3r7EK",
        "colab_type": "code",
        "colab": {}
      },
      "source": [
        "!wget https://raw.githubusercontent.com/plotly/dash-cytoscape/master/demos/data/apaf.xml"
      ],
      "execution_count": 0,
      "outputs": []
    },
    {
      "cell_type": "code",
      "metadata": {
        "id": "C44-gsl9r9kT",
        "colab_type": "code",
        "colab": {}
      },
      "source": [
        "!mv apaf.xml data/"
      ],
      "execution_count": 0,
      "outputs": []
    },
    {
      "cell_type": "code",
      "metadata": {
        "id": "vAzSgI1HreLh",
        "colab_type": "code",
        "colab": {}
      },
      "source": [
        "%%writefile app4.py\n",
        "\n",
        "import dash_hannari as dashhannari\n",
        "import dash\n",
        "import dash_html_components as html\n",
        "from Bio import Phylo\n",
        " \n",
        "tree = Phylo.read('data/apaf.xml', 'phyloxml')\n",
        "component = dashhannari.PhylogenyTree(tree)\n",
        " \n",
        "external_stylesheets = ['https://codepen.io/chriddyp/pen/bWLwgP.css']\n",
        "app = dash.Dash(__name__, external_stylesheets=external_stylesheets)\n",
        "app.layout = html.Div(component)\n",
        "if __name__ == '__main__':\n",
        "  app.run_server(debug=True)"
      ],
      "execution_count": 0,
      "outputs": []
    },
    {
      "cell_type": "code",
      "metadata": {
        "colab_type": "code",
        "id": "X6lsBo8ewhxx",
        "colab": {}
      },
      "source": [
        "get_ipython().system_raw('./ngrok http 8050 &')"
      ],
      "execution_count": 0,
      "outputs": []
    },
    {
      "cell_type": "code",
      "metadata": {
        "colab_type": "code",
        "id": "qi38uWFwwhx4",
        "colab": {}
      },
      "source": [
        "%%sh\n",
        "# get url with ngrok\n",
        "curl -s http://localhost:4040/api/tunnels | python3 -c \"import sys, json; print(json.load(sys.stdin)['tunnels'][0]['public_url'])\""
      ],
      "execution_count": 0,
      "outputs": []
    },
    {
      "cell_type": "code",
      "metadata": {
        "id": "8_TIqHzywt-d",
        "colab_type": "code",
        "colab": {}
      },
      "source": [
        "!python app4.py"
      ],
      "execution_count": 0,
      "outputs": []
    },
    {
      "cell_type": "code",
      "metadata": {
        "id": "qOqRSeHDwvu4",
        "colab_type": "code",
        "colab": {}
      },
      "source": [
        ""
      ],
      "execution_count": 0,
      "outputs": []
>>>>>>> origin/master
    }
   ],
   "source": [
    "!unzip ngrok-stable-linux-amd64.zip"
   ]
  },
  {
   "cell_type": "code",
   "execution_count": 4,
   "metadata": {
    "colab": {},
    "colab_type": "code",
    "id": "_FYXqe07WBby"
   },
   "outputs": [
    {
     "name": "stdout",
     "output_type": "stream",
     "text": [
      "Writing app1.py\n"
     ]
    }
   ],
   "source": [
    "%%writefile app1.py\n",
    "\n",
    "# -*- coding: utf-8 -*-\n",
    "import dash\n",
    "import dash_core_components as dcc\n",
    "import dash_html_components as html\n",
    "\n",
    "external_stylesheets = ['https://codepen.io/chriddyp/pen/bWLwgP.css']\n",
    "\n",
    "app = dash.Dash(__name__, external_stylesheets=external_stylesheets)\n",
    "\n",
    "app.layout = html.Div(children=[\n",
    "    html.H1(children='Hello Dash'),\n",
    "\n",
    "    html.Div(children='''\n",
    "        Dash: A web application framework for Python.\n",
    "    '''),\n",
    "\n",
    "    dcc.Graph(\n",
    "        id='example-graph',\n",
    "        figure={\n",
    "            'data': [\n",
    "                {'x': [1, 2, 3], 'y': [4, 1, 2], 'type': 'bar', 'name': 'SF'},\n",
    "                {'x': [1, 2, 3], 'y': [2, 4, 5], 'type': 'bar', 'name': u'Montréal'},\n",
    "            ],\n",
    "            'layout': {\n",
    "                'title': 'Dash Data Visualization'\n",
    "            }\n",
    "        }\n",
    "    )\n",
    "])\n",
    "\n",
    "if __name__ == '__main__':\n",
    "    app.run_server(debug=True)\n",
    "    "
   ]
  },
  {
   "cell_type": "code",
   "execution_count": 5,
   "metadata": {
    "colab": {},
    "colab_type": "code",
    "id": "kxN4bwu0WSdJ"
   },
   "outputs": [],
   "source": [
    "get_ipython().system_raw('./ngrok http 8050 &')"
   ]
  },
  {
   "cell_type": "code",
   "execution_count": 6,
   "metadata": {
    "colab": {},
    "colab_type": "code",
    "id": "_Gwo9CxvWbFG"
   },
   "outputs": [
    {
     "name": "stdout",
     "output_type": "stream",
     "text": [
      "Couldn't find program: 'sh'\n"
     ]
    }
   ],
   "source": [
    "%%sh\n",
    "# get url with ngrok\n",
    "curl -s http://localhost:4040/api/tunnels | python3 -c \"import sys, json; print(json.load(sys.stdin)['tunnels'][0]['public_url'])\""
   ]
  },
  {
   "cell_type": "code",
   "execution_count": null,
   "metadata": {
    "colab": {},
    "colab_type": "code",
    "id": "BugXWXVQWfLv"
   },
   "outputs": [],
   "source": [
    "!python app1.py"
   ]
  },
  {
   "cell_type": "code",
   "execution_count": null,
   "metadata": {
    "colab": {},
    "colab_type": "code",
    "id": "bztjIflhbn1n"
   },
   "outputs": [],
   "source": [
    "!pip install dash-bio==0.4.8"
   ]
  },
  {
   "cell_type": "code",
   "execution_count": null,
   "metadata": {
    "colab": {},
    "colab_type": "code",
    "id": "5TdmHBAoWjRX"
   },
   "outputs": [],
   "source": [
    "%%writefile app2.py\n",
    "\n",
    "import dash\n",
    "import dash_core_components as dcc\n",
    "import dash_html_components as html\n",
    "import dash_bio as dashbio\n",
    "import pandas as pd\n",
    "\n",
    "df = pd.read_csv(\n",
    "    'https://raw.githubusercontent.com/plotly/dash-bio-docs-files' +\n",
    "    '/master/clustergram_mtcars.tsv',\n",
    "    sep='\t', skiprows=4\n",
    ").set_index('model')\n",
    "\n",
    "data = df.values\n",
    "\n",
    "component = dcc.Graph(figure=dashbio.Clustergram(\n",
    "  data=data,\n",
    "  color_threshold={'row': 150,\n",
    "  'col': 700},\n",
    "  column_labels=list(df.columns.values),\n",
    "  row_labels=list(df.index),\n",
    "  hidden_labels=['row'],\n",
    "  width=600\n",
    "))\n",
    "\n",
    "external_stylesheets = ['https://codepen.io/chriddyp/pen/bWLwgP.css']\n",
    "app = dash.Dash(__name__, external_stylesheets=external_stylesheets)\n",
    "app.layout = html.Div(component)\n",
    "if __name__ == '__main__':\n",
    "    app.run_server(debug=True)\n"
   ]
  },
  {
   "cell_type": "code",
   "execution_count": null,
   "metadata": {
    "colab": {},
    "colab_type": "code",
    "id": "BagifRDl3f2s"
   },
   "outputs": [],
   "source": [
    "import pandas as pd\n",
    "\n",
    "df = pd.read_csv(\n",
    "    'https://raw.githubusercontent.com/plotly/dash-bio-docs-files' +\n",
    "    '/master/clustergram_mtcars.tsv',\n",
    "    sep='\t', skiprows=4\n",
    ").set_index('model')\n",
    "\n",
    "data = df.values"
   ]
  },
  {
   "cell_type": "code",
   "execution_count": null,
   "metadata": {
    "colab": {},
    "colab_type": "code",
    "id": "zP0QmYvH3mZn"
   },
   "outputs": [],
   "source": [
    "df"
   ]
  },
  {
   "cell_type": "code",
   "execution_count": null,
   "metadata": {
    "colab": {},
    "colab_type": "code",
    "id": "Yy6YXAQh31a9"
   },
   "outputs": [],
   "source": [
    "data"
   ]
  },
  {
   "cell_type": "code",
   "execution_count": null,
   "metadata": {
    "colab": {},
    "colab_type": "code",
    "id": "_C9c8vuedElH"
   },
   "outputs": [],
   "source": [
    "get_ipython().system_raw('./ngrok http 8050 &')"
   ]
  },
  {
   "cell_type": "code",
   "execution_count": null,
   "metadata": {
    "colab": {},
    "colab_type": "code",
    "id": "LxWRGFGcdElK"
   },
   "outputs": [],
   "source": [
    "%%sh\n",
    "# get url with ngrok\n",
    "curl -s http://localhost:4040/api/tunnels | python3 -c \"import sys, json; print(json.load(sys.stdin)['tunnels'][0]['public_url'])\""
   ]
  },
  {
   "cell_type": "code",
   "execution_count": null,
   "metadata": {
    "colab": {},
    "colab_type": "code",
    "id": "eS7MVWDYbfGb"
   },
   "outputs": [],
   "source": [
    "!python app2.py"
   ]
  },
  {
   "cell_type": "code",
   "execution_count": null,
   "metadata": {
    "colab": {},
    "colab_type": "code",
    "id": "JRLCv0rtbghh"
   },
   "outputs": [],
   "source": [
    "%%writefile app3.py\n",
    "\n",
    "import dash\n",
    "import dash_core_components as dcc\n",
    "import dash_html_components as html\n",
    "import dash_bio as dashbio\n",
    "import pandas as pd\n",
    "\n",
    "df = pd.read_csv(\n",
    "    'https://raw.githubusercontent.com/plotly/dash-bio-docs-files' +\n",
    "    '/master/volcano_data1.csv'\n",
    ")\n",
    "component = dcc.Graph(figure=dashbio.VolcanoPlot(\n",
    "  dataframe=df\n",
    "))\n",
    "\n",
    "external_stylesheets = ['https://codepen.io/chriddyp/pen/bWLwgP.css']\n",
    "app = dash.Dash(__name__, external_stylesheets=external_stylesheets)\n",
    "app.layout = html.Div(component)\n",
    "if __name__ == '__main__':\n",
    "  app.run_server(debug=True)\n"
   ]
  },
  {
   "cell_type": "code",
   "execution_count": null,
   "metadata": {
    "colab": {},
    "colab_type": "code",
    "id": "FM477ee5d9Ak"
   },
   "outputs": [],
   "source": [
    "get_ipython().system_raw('./ngrok http 8050 &')"
   ]
  },
  {
   "cell_type": "code",
   "execution_count": null,
   "metadata": {
    "colab": {},
    "colab_type": "code",
    "id": "TSY-5xbtd9An"
   },
   "outputs": [],
   "source": [
    "%%sh\n",
    "# get url with ngrok\n",
    "curl -s http://localhost:4040/api/tunnels | python3 -c \"import sys, json; print(json.load(sys.stdin)['tunnels'][0]['public_url'])\""
   ]
  },
  {
   "cell_type": "code",
   "execution_count": null,
   "metadata": {
    "colab": {},
    "colab_type": "code",
    "id": "3gZiLmVBd9Ap"
   },
   "outputs": [],
   "source": [
    "!python app3.py"
   ]
  },
  {
   "cell_type": "code",
   "execution_count": null,
   "metadata": {
    "colab": {},
    "colab_type": "code",
    "id": "8EK1_w40eBaR"
   },
   "outputs": [],
   "source": [
    "import pandas as pd\n",
    "\n",
    "df = pd.read_csv(\n",
    "    'https://raw.githubusercontent.com/plotly/dash-bio-docs-files' +\n",
    "    '/master/volcano_data1.csv'\n",
    ")"
   ]
  },
  {
   "cell_type": "code",
   "execution_count": null,
   "metadata": {
    "colab": {},
    "colab_type": "code",
    "id": "dSEDSuK74DvD"
   },
   "outputs": [],
   "source": [
    "df"
   ]
  },
  {
   "cell_type": "code",
   "execution_count": null,
   "metadata": {
    "colab": {},
    "colab_type": "code",
    "id": "n6tOIGum4EMA"
   },
   "outputs": [],
   "source": [
    "!mkdir dash_hannari"
   ]
  },
  {
   "cell_type": "code",
   "execution_count": null,
   "metadata": {
    "colab": {},
    "colab_type": "code",
    "id": "V0pM63ooqx6o"
   },
   "outputs": [],
   "source": [
    "!touch dash_hannari/__init__.py"
   ]
  },
  {
   "cell_type": "code",
   "execution_count": null,
   "metadata": {
    "colab": {},
    "colab_type": "code",
    "id": "HSVaXINxvbbC"
   },
   "outputs": [],
   "source": [
    "!pip install dash-cytoscape"
   ]
  },
  {
   "cell_type": "code",
   "execution_count": null,
   "metadata": {
    "colab": {},
    "colab_type": "code",
    "id": "b2Qv01jfq-Vk"
   },
   "outputs": [],
   "source": [
    "%%writefile dash_hannari/__init__.py\n",
    "\n",
    "import math\n",
    "import dash_cytoscape as cyto\n",
    "\n",
    "def PhylogenyTree(tree):\n",
    "\n",
    "  nodes, edges = generate_elements(tree)\n",
    "  elements = nodes + edges\n",
    "\n",
    "  layout = {'name': 'preset'}\n",
    "\n",
    "  stylesheet = [\n",
    "      {\n",
    "          'selector': '.nonterminal',\n",
    "          'style': {\n",
    "              'label': 'data(confidence)',\n",
    "              'background-opacity': 0,\n",
    "              \"text-halign\": \"left\",\n",
    "              \"text-valign\": \"top\",\n",
    "          }\n",
    "      },\n",
    "      {\n",
    "          'selector': '.support',\n",
    "          'style': {'background-opacity': 0}\n",
    "      },\n",
    "      {\n",
    "          'selector': 'edge',\n",
    "          'style': {\n",
    "              \"source-endpoint\": \"inside-to-node\",\n",
    "              \"target-endpoint\": \"inside-to-node\",\n",
    "          }\n",
    "      },\n",
    "      {\n",
    "          'selector': '.terminal',\n",
    "          'style': {\n",
    "              'label': 'data(name)',\n",
    "              'width': 10,\n",
    "              'height': 10,\n",
    "              \"text-valign\": \"center\",\n",
    "              \"text-halign\": \"right\",\n",
    "              'background-color': '#222222'\n",
    "          }\n",
    "      }\n",
    "  ]\n",
    "\n",
    "  return cyto.Cytoscape(\n",
    "        id='cytoscape',\n",
    "        elements=elements,\n",
    "        stylesheet=stylesheet,\n",
    "        layout=layout,\n",
    "        style={\n",
    "            'height': '95vh',\n",
    "            'width': '100%'\n",
    "        }\n",
    "    )\n",
    "\n",
    "\n",
    "def generate_elements(tree, xlen=30, ylen=30, grabbable=False):\n",
    "    def get_col_positions(tree, column_width=80):\n",
    "        \"\"\"Create a mapping of each clade to its column position.\"\"\"\n",
    "        taxa = tree.get_terminals()\n",
    "\n",
    "        # Some constants for the drawing calculations\n",
    "        max_label_width = max(len(str(taxon)) for taxon in taxa)\n",
    "        drawing_width = column_width - max_label_width - 1\n",
    "\n",
    "        depths = tree.depths()\n",
    "        # If there are no branch lengths, assume unit branch lengths\n",
    "        if not max(depths.values()):\n",
    "            depths = tree.depths(unit_branch_lengths=True)\n",
    "            # Potential drawing overflow due to rounding -- 1 char per tree layer\n",
    "        fudge_margin = int(math.ceil(math.log(len(taxa), 2)))\n",
    "        cols_per_branch_unit = ((drawing_width - fudge_margin) /\n",
    "                                float(max(depths.values())))\n",
    "        return dict((clade, int(blen * cols_per_branch_unit + 1.0))\n",
    "                    for clade, blen in depths.items())\n",
    "\n",
    "    def get_row_positions(tree):\n",
    "        taxa = tree.get_terminals()\n",
    "        positions = dict((taxon, 2 * idx) for idx, taxon in enumerate(taxa))\n",
    "\n",
    "        def calc_row(clade):\n",
    "            for subclade in clade:\n",
    "                if subclade not in positions:\n",
    "                    calc_row(subclade)\n",
    "            positions[clade] = ((positions[clade.clades[0]] +\n",
    "                                 positions[clade.clades[-1]]) // 2)\n",
    "\n",
    "        calc_row(tree.root)\n",
    "        return positions\n",
    "\n",
    "    def add_to_elements(clade, clade_id):\n",
    "        children = clade.clades\n",
    "\n",
    "        pos_x = col_positions[clade] * xlen\n",
    "        pos_y = row_positions[clade] * ylen\n",
    "\n",
    "        cy_source = {\n",
    "            \"data\": {\"id\": clade_id},\n",
    "            'position': {'x': pos_x, 'y': pos_y},\n",
    "            'classes': 'nonterminal',\n",
    "            'grabbable': grabbable\n",
    "        }\n",
    "        nodes.append(cy_source)\n",
    "\n",
    "        if clade.is_terminal():\n",
    "            cy_source['data']['name'] = clade.name\n",
    "            cy_source['classes'] = 'terminal'\n",
    "\n",
    "        for n, child in enumerate(children):\n",
    "            # The \"support\" node is on the same column as the parent clade,\n",
    "            # and on the same row as the child clade. It is used to create the\n",
    "            # 90 degree angle between the parent and the children.\n",
    "            # Edge config: parent -> support -> child\n",
    "\n",
    "            support_id = clade_id + 's' + str(n)\n",
    "            child_id = clade_id + 'c' + str(n)\n",
    "            pos_y_child = row_positions[child] * ylen\n",
    "\n",
    "            cy_support_node = {\n",
    "                'data': {'id': support_id},\n",
    "                'position': {'x': pos_x, 'y': pos_y_child},\n",
    "                'grabbable': grabbable,\n",
    "                'classes': 'support'\n",
    "            }\n",
    "\n",
    "            cy_support_edge = {\n",
    "                'data': {\n",
    "                    'source': clade_id,\n",
    "                    'target': support_id,\n",
    "                    'sourceCladeId': clade_id\n",
    "                },\n",
    "            }\n",
    "\n",
    "            cy_edge = {\n",
    "                'data': {\n",
    "                    'source': support_id,\n",
    "                    'target': child_id,\n",
    "                    'length': clade.branch_length,\n",
    "                    'sourceCladeId': clade_id\n",
    "                },\n",
    "            }\n",
    "\n",
    "            if clade.confidence and clade.confidence.value:\n",
    "                cy_source['data']['confidence'] = clade.confidence.value\n",
    "\n",
    "            nodes.append(cy_support_node)\n",
    "            edges.extend([cy_support_edge, cy_edge])\n",
    "\n",
    "            add_to_elements(child, child_id)\n",
    "\n",
    "    col_positions = get_col_positions(tree)\n",
    "    row_positions = get_row_positions(tree)\n",
    "\n",
    "    nodes = []\n",
    "    edges = []\n",
    "\n",
    "    add_to_elements(tree.clade, 'r')\n",
    "\n",
    "    return nodes, edges\n"
   ]
  },
  {
   "cell_type": "code",
   "execution_count": null,
   "metadata": {
    "colab": {},
    "colab_type": "code",
    "id": "e9rH5a6Nq1sd"
   },
   "outputs": [],
   "source": [
    "import dash_hannari as dashhannari"
   ]
  },
  {
   "cell_type": "code",
   "execution_count": null,
   "metadata": {
    "colab": {},
    "colab_type": "code",
    "id": "kuAJCDd2rEJD"
   },
   "outputs": [],
   "source": [
    "!pip install biopython"
   ]
  },
  {
   "cell_type": "code",
   "execution_count": null,
   "metadata": {
    "colab": {},
    "colab_type": "code",
    "id": "PzyY53_BrlAN"
   },
   "outputs": [],
   "source": [
    "!mkdir data"
   ]
  },
  {
   "cell_type": "code",
   "execution_count": null,
   "metadata": {
    "colab": {},
    "colab_type": "code",
    "id": "mUQIGAK3r7EK"
   },
   "outputs": [],
   "source": [
    "!wget https://raw.githubusercontent.com/plotly/dash-cytoscape/master/demos/data/apaf.xml"
   ]
  },
  {
   "cell_type": "code",
   "execution_count": null,
   "metadata": {
    "colab": {},
    "colab_type": "code",
    "id": "C44-gsl9r9kT"
   },
   "outputs": [],
   "source": [
    "!mv apaf.xml data/"
   ]
  },
  {
   "cell_type": "code",
   "execution_count": null,
   "metadata": {
    "colab": {},
    "colab_type": "code",
    "id": "vAzSgI1HreLh"
   },
   "outputs": [],
   "source": [
    "%%writefile app4.py\n",
    "\n",
    "import dash_hannari as dashhannari\n",
    "import dash\n",
    "import dash_html_components as html\n",
    "from Bio import Phylo\n",
    " \n",
    "tree = Phylo.read('data/apaf.xml', 'phyloxml')\n",
    "component = dashhannari.PhylogenyTree(tree)\n",
    " \n",
    "external_stylesheets = ['https://codepen.io/chriddyp/pen/bWLwgP.css']\n",
    "app = dash.Dash(__name__, external_stylesheets=external_stylesheets)\n",
    "app.layout = html.Div(component)\n",
    "if __name__ == '__main__':\n",
    "  app.run_server(debug=True)"
   ]
  },
  {
   "cell_type": "code",
   "execution_count": null,
   "metadata": {
    "colab": {},
    "colab_type": "code",
    "id": "X6lsBo8ewhxx"
   },
   "outputs": [],
   "source": [
    "get_ipython().system_raw('./ngrok http 8050 &')"
   ]
  },
  {
   "cell_type": "code",
   "execution_count": null,
   "metadata": {
    "colab": {},
    "colab_type": "code",
    "id": "qi38uWFwwhx4"
   },
   "outputs": [],
   "source": [
    "%%sh\n",
    "# get url with ngrok\n",
    "curl -s http://localhost:4040/api/tunnels | python3 -c \"import sys, json; print(json.load(sys.stdin)['tunnels'][0]['public_url'])\""
   ]
  },
  {
   "cell_type": "code",
   "execution_count": null,
   "metadata": {
    "colab": {},
    "colab_type": "code",
    "id": "8_TIqHzywt-d"
   },
   "outputs": [],
   "source": [
    "!python app4.py"
   ]
  },
  {
   "cell_type": "code",
   "execution_count": null,
   "metadata": {
    "colab": {},
    "colab_type": "code",
    "id": "qOqRSeHDwvu4"
   },
   "outputs": [],
   "source": []
  }
 ],
 "metadata": {
  "colab": {
   "name": "hannari_dashcomponent",
   "private_outputs": true,
   "provenance": []
  },
  "kernelspec": {
   "display_name": "Python 3",
   "language": "python",
   "name": "python3"
  },
  "language_info": {
   "codemirror_mode": {
    "name": "ipython",
    "version": 3
   },
   "file_extension": ".py",
   "mimetype": "text/x-python",
   "name": "python",
   "nbconvert_exporter": "python",
   "pygments_lexer": "ipython3",
   "version": "3.7.4"
  }
 },
 "nbformat": 4,
 "nbformat_minor": 4
}
